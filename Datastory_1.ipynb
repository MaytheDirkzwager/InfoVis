{
 "cells": [
  {
   "cell_type": "code",
   "execution_count": 11,
   "metadata": {
    "slideshow": {
     "slide_type": "skip"
    }
   },
   "outputs": [
    {
     "data": {
      "text/html": [
       "<script>$(\"div.input\").hide()</script>"
      ],
      "text/plain": [
       "<IPython.core.display.HTML object>"
      ]
     },
     "metadata": {},
     "output_type": "display_data"
    },
    {
     "data": {
      "application/vnd.jupyter.widget-view+json": {
       "model_id": "aa7f25a76f9e41ad9c2580b6be1c483f",
       "version_major": 2,
       "version_minor": 0
      },
      "text/plain": [
       "ToggleButton(value=False, description='Show code')"
      ]
     },
     "metadata": {},
     "output_type": "display_data"
    },
    {
     "data": {
      "text/html": [
       "<script>$(\"div.input\").show()</script>"
      ],
      "text/plain": [
       "<IPython.core.display.HTML object>"
      ]
     },
     "metadata": {},
     "output_type": "display_data"
    },
    {
     "data": {
      "text/html": [
       "<script>$(\"div.input\").hide()</script>"
      ],
      "text/plain": [
       "<IPython.core.display.HTML object>"
      ]
     },
     "metadata": {},
     "output_type": "display_data"
    }
   ],
   "source": [
    "import ipywidgets as widgets\n",
    "from IPython.display import display, HTML\n",
    "\n",
    "javascript_functions = {False: \"hide()\", True: \"show()\"}\n",
    "button_descriptions  = {False: \"Show code\", True: \"Hide code\"}\n",
    "\n",
    "\n",
    "def toggle_code(state):\n",
    "\n",
    "    \"\"\"\n",
    "    Toggles the JavaScript show()/hide() function on the div.input element.\n",
    "    \"\"\"\n",
    "\n",
    "    output_string = \"<script>$(\\\"div.input\\\").{}</script>\"\n",
    "    output_args   = (javascript_functions[state],)\n",
    "    output        = output_string.format(*output_args)\n",
    "\n",
    "    display(HTML(output))\n",
    "\n",
    "\n",
    "def button_action(value):\n",
    "\n",
    "    \"\"\"\n",
    "    Calls the toggle_code function and updates the button description.\n",
    "    \"\"\"\n",
    "\n",
    "    state = value.new\n",
    "\n",
    "    toggle_code(state)\n",
    "\n",
    "    value.owner.description = button_descriptions[state]\n",
    "\n",
    "\n",
    "state = False\n",
    "toggle_code(state)\n",
    "\n",
    "button = widgets.ToggleButton(state, description = button_descriptions[state])\n",
    "button.observe(button_action, \"value\")\n",
    "\n",
    "display(button)"
   ]
  },
  {
   "cell_type": "code",
   "execution_count": 5,
   "metadata": {},
   "outputs": [
    {
     "data": {
      "text/html": [
       "        <script type=\"text/javascript\">\n",
       "        window.PlotlyConfig = {MathJaxConfig: 'local'};\n",
       "        if (window.MathJax) {MathJax.Hub.Config({SVG: {font: \"STIX-Web\"}});}\n",
       "        if (typeof require !== 'undefined') {\n",
       "        require.undef(\"plotly\");\n",
       "        requirejs.config({\n",
       "            paths: {\n",
       "                'plotly': ['https://cdn.plot.ly/plotly-latest.min']\n",
       "            }\n",
       "        });\n",
       "        require(['plotly'], function(Plotly) {\n",
       "            window._Plotly = Plotly;\n",
       "        });\n",
       "        }\n",
       "        </script>\n",
       "        "
      ]
     },
     "metadata": {},
     "output_type": "display_data"
    }
   ],
   "source": [
    "# Deze cell importeert een aantal functies en modules die je nodig hebt om deze opdracht te maken.\n",
    "\n",
    "from plotly.offline import init_notebook_mode, iplot\n",
    "import plotly.graph_objs as go\n",
    "\n",
    "import matplotlib.pyplot as plt\n",
    "from collections import defaultdict\n",
    "\n",
    "\n",
    "# Start notebook mode\n",
    "init_notebook_mode(connected=True)\n",
    "\n",
    "import pandas as pd # we gebruiken pandas om de CSV data te laden en te visualiseren\n",
    "\n",
    "# dataframe with terrorism dataset\n",
    "df = pd.read_csv('globalterrorismdb_0718dist.csv', encoding = 'ISO-8859-1', low_memory = False)\n",
    "df.fillna(0, inplace = True)\n",
    "\n",
    "eu = ['Austria', 'Belgium', 'Bulgaria', 'Croatia', 'Cyprus','Czechia', 'Denmark', 'Estiona',\n",
    "     'Finland', 'France', 'Germany', 'Greece', 'Hungary', 'Ireland', 'Italy', 'Latvia', 'Lithuani',\n",
    "     'Luxembourg', 'Malta', 'Netherlands', 'Poland', 'Portugal', 'Romania', 'Slovakia', 'Slovenia', \n",
    "     'Spain', 'Sweden', 'United Kingdom']\n",
    "\n",
    "lijst = [item for item in df.index if df.loc[item]['iyear'] > 2015]\n",
    "        \n",
    "df = df.drop(lijst, axis = 0)"
   ]
  },
  {
   "cell_type": "markdown",
   "metadata": {
    "slideshow": {
     "slide_type": "skip"
    }
   },
   "source": [
    "# In hoeverre neemt de terroristische dreiging toe in de Europese Unie?"
   ]
  },
  {
   "cell_type": "markdown",
   "metadata": {
    "slideshow": {
     "slide_type": "skip"
    }
   },
   "source": [
    "De angst voor terroristische aanvallen onder Nederlanders lijkt te zijn gestegen, meldde het AD vorig jaar (2018). Het aantal mensen dat zich zorgen maakt is toegenomen met meer dan 10 procent. Hoe rechtvaardig is deze angst? In dit onderzoek wordt er gekeken naar de verandering van de terroristische dreiging tussen 1970 en 2015. De dreiging wordt hier gedefiniëerd als het aantal terroristische aanvallen. \n",
    "\n",
    "https://www.ad.nl/binnenland/meer-nederlanders-maken-zich-zorgen-om-een-terroristische-aanslag~a042b278/?referrer=https://www.google.com/"
   ]
  },
  {
   "cell_type": "markdown",
   "metadata": {
    "slideshow": {
     "slide_type": "slide"
    }
   },
   "source": [
    "De gegevens zijn afkomstig uit de database The Global Terrorism Database (GTD). Dit is een open-source database en bevat zowel binnenlandse als internationale terroristische aanvallen tussen 1970 en 2017. De database bevat nu al meer dan 180,000 incidenten.  "
   ]
  },
  {
   "cell_type": "code",
   "execution_count": 18,
   "metadata": {
    "slideshow": {
     "slide_type": "slide"
    }
   },
   "outputs": [
    {
     "data": {
      "application/vnd.plotly.v1+json": {
       "config": {
        "linkText": "Export to plot.ly",
        "plotlyServerURL": "https://plot.ly",
        "showLink": false
       },
       "data": [
        {
         "mode": "lines",
         "name": "Aantal aanvallen",
         "type": "scatter",
         "uid": "ce368769-f1b8-4875-9749-16184ea67a69",
         "x": [
          1970,
          1971,
          1972,
          1973,
          1974,
          1975,
          1976,
          1977,
          1978,
          1979,
          1980,
          1981,
          1982,
          1983,
          1984,
          1985,
          1986,
          1987,
          1988,
          1989,
          1990,
          1991,
          1992,
          1994,
          1995,
          1996,
          1997,
          1998,
          1999,
          2000,
          2001,
          2002,
          2003,
          2004,
          2005,
          2006,
          2007,
          2008,
          2009,
          2010,
          2011,
          2012,
          2013,
          2014,
          2015
         ],
         "y": [
          6,
          11,
          123,
          93,
          101,
          112,
          125,
          115,
          57,
          127,
          70,
          54,
          59,
          59,
          92,
          66,
          90,
          65,
          70,
          42,
          75,
          98,
          169,
          155,
          63,
          51,
          45,
          29,
          62,
          52,
          78,
          21,
          18,
          12,
          22,
          19,
          16,
          27,
          27,
          38,
          28,
          94,
          99,
          77,
          176
         ]
        },
        {
         "mode": "lines",
         "name": "Stijging of daling aantal aanvallen",
         "type": "scatter",
         "uid": "cecce1d3-bca1-44a7-90d8-9ecf56186418",
         "x": [
          1970,
          1971,
          1972,
          1973,
          1974,
          1975,
          1976,
          1977,
          1978,
          1979,
          1980,
          1981,
          1982,
          1983,
          1984,
          1985,
          1986,
          1987,
          1988,
          1989,
          1990,
          1991,
          1992,
          1994,
          1995,
          1996,
          1997,
          1998,
          1999,
          2000,
          2001,
          2002,
          2003,
          2004,
          2005,
          2006,
          2007,
          2008,
          2009,
          2010,
          2011,
          2012,
          2013,
          2014,
          2015
         ],
         "y": [
          6,
          5,
          112,
          -30,
          8,
          11,
          13,
          -10,
          -58,
          70,
          -57,
          -16,
          5,
          0,
          33,
          -26,
          24,
          -25,
          5,
          -28,
          33,
          23,
          71,
          -14,
          -92,
          -12,
          -6,
          -16,
          33,
          -10,
          26,
          -57,
          -3,
          -6,
          10,
          -3,
          -3,
          11,
          0,
          11,
          -10,
          66,
          5,
          -22,
          99
         ]
        }
       ],
       "layout": {
        "title": {
         "text": "Aantal aanvallen op burgers in de EU per jaar"
        },
        "xaxis": {
         "title": {
          "text": "Jaar"
         }
        },
        "yaxis": {
         "title": {
          "text": "Aantal aanvallen"
         }
        }
       }
      },
      "text/html": [
       "<div>\n",
       "        \n",
       "        \n",
       "            <div id=\"15a390ef-1d71-40cf-805b-cf3eb8ab3eab\" class=\"plotly-graph-div\" style=\"height:525px; width:100%;\"></div>\n",
       "            <script type=\"text/javascript\">\n",
       "                require([\"plotly\"], function(Plotly) {\n",
       "                    window.PLOTLYENV=window.PLOTLYENV || {};\n",
       "                    window.PLOTLYENV.BASE_URL='https://plot.ly';\n",
       "                    \n",
       "                if (document.getElementById(\"15a390ef-1d71-40cf-805b-cf3eb8ab3eab\")) {\n",
       "                    Plotly.newPlot(\n",
       "                        '15a390ef-1d71-40cf-805b-cf3eb8ab3eab',\n",
       "                        [{\"mode\": \"lines\", \"name\": \"Aantal aanvallen\", \"type\": \"scatter\", \"uid\": \"ce368769-f1b8-4875-9749-16184ea67a69\", \"x\": [1970, 1971, 1972, 1973, 1974, 1975, 1976, 1977, 1978, 1979, 1980, 1981, 1982, 1983, 1984, 1985, 1986, 1987, 1988, 1989, 1990, 1991, 1992, 1994, 1995, 1996, 1997, 1998, 1999, 2000, 2001, 2002, 2003, 2004, 2005, 2006, 2007, 2008, 2009, 2010, 2011, 2012, 2013, 2014, 2015], \"y\": [6, 11, 123, 93, 101, 112, 125, 115, 57, 127, 70, 54, 59, 59, 92, 66, 90, 65, 70, 42, 75, 98, 169, 155, 63, 51, 45, 29, 62, 52, 78, 21, 18, 12, 22, 19, 16, 27, 27, 38, 28, 94, 99, 77, 176]}, {\"mode\": \"lines\", \"name\": \"Stijging of daling aantal aanvallen\", \"type\": \"scatter\", \"uid\": \"cecce1d3-bca1-44a7-90d8-9ecf56186418\", \"x\": [1970, 1971, 1972, 1973, 1974, 1975, 1976, 1977, 1978, 1979, 1980, 1981, 1982, 1983, 1984, 1985, 1986, 1987, 1988, 1989, 1990, 1991, 1992, 1994, 1995, 1996, 1997, 1998, 1999, 2000, 2001, 2002, 2003, 2004, 2005, 2006, 2007, 2008, 2009, 2010, 2011, 2012, 2013, 2014, 2015], \"y\": [6, 5, 112, -30, 8, 11, 13, -10, -58, 70, -57, -16, 5, 0, 33, -26, 24, -25, 5, -28, 33, 23, 71, -14, -92, -12, -6, -16, 33, -10, 26, -57, -3, -6, 10, -3, -3, 11, 0, 11, -10, 66, 5, -22, 99]}],\n",
       "                        {\"title\": {\"text\": \"Aantal aanvallen op burgers in de EU per jaar\"}, \"xaxis\": {\"title\": {\"text\": \"Jaar\"}}, \"yaxis\": {\"title\": {\"text\": \"Aantal aanvallen\"}}},\n",
       "                        {\"showLink\": false, \"linkText\": \"Export to plot.ly\", \"plotlyServerURL\": \"https://plot.ly\", \"responsive\": true}\n",
       "                    ).then(function(){\n",
       "                            \n",
       "var gd = document.getElementById('15a390ef-1d71-40cf-805b-cf3eb8ab3eab');\n",
       "var x = new MutationObserver(function (mutations, observer) {{\n",
       "        var display = window.getComputedStyle(gd).display;\n",
       "        if (!display || display === 'none') {{\n",
       "            console.log([gd, 'removed!']);\n",
       "            Plotly.purge(gd);\n",
       "            observer.disconnect();\n",
       "        }}\n",
       "}});\n",
       "\n",
       "// Listen for the removal of the full notebook cells\n",
       "var notebookContainer = gd.closest('#notebook-container');\n",
       "if (notebookContainer) {{\n",
       "    x.observe(notebookContainer, {childList: true});\n",
       "}}\n",
       "\n",
       "// Listen for the clearing of the current output cell\n",
       "var outputEl = gd.closest('.output');\n",
       "if (outputEl) {{\n",
       "    x.observe(outputEl, {childList: true});\n",
       "}}\n",
       "\n",
       "                        })\n",
       "                };\n",
       "                });\n",
       "            </script>\n",
       "        </div>"
      ]
     },
     "metadata": {},
     "output_type": "display_data"
    }
   ],
   "source": [
    "\"\"\"\n",
    "Line chart containing number of attacks on civilians in the EU, displayed by year\n",
    "\"\"\"\n",
    "\n",
    "attacks_citizens = dict()\n",
    "\n",
    "for item in df.index: \n",
    "    # check if country is in EU\n",
    "    if df.loc[item]['iyear'] <= 2015 and df.loc[item]['country_txt'] in eu:\n",
    "        # check if target of attack is citizen\n",
    "        if 'Citizens' in df.loc[item]['targtype1_txt']:\n",
    "            # add attack to dictionary\n",
    "            if df.loc[item]['iyear'] in attacks_citizens:\n",
    "                attacks_citizens[df.loc[item]['iyear']] += 1\n",
    "            else:\n",
    "                attacks_citizens[df.loc[item]['iyear']] = 1\n",
    "                \n",
    "trace1 = go.Scatter(\n",
    "    x = list(attacks_citizens.keys()),\n",
    "    y = list(attacks_citizens.values()),\n",
    "    mode = 'lines',\n",
    "    name = 'Aantal aanvallen'\n",
    ")\n",
    "\n",
    "# maak informatie voor de afgeleide\n",
    "old_y = 0\n",
    "afgeleide = []\n",
    "for amount in list(attacks_citizens.values()):\n",
    "    rc = amount - old_y\n",
    "    afgeleide.append(rc)\n",
    "    old_y = amount\n",
    "\n",
    "trace2 = go.Scatter(\n",
    "    x = list(attacks_citizens.keys()),\n",
    "    y = afgeleide,\n",
    "    mode = 'lines',\n",
    "    name = 'Stijging of daling aantal aanvallen'\n",
    "\n",
    ")    \n",
    "    \n",
    "    \n",
    "layout = go.Layout(\n",
    "    xaxis=go.layout.XAxis(\n",
    "        title = 'Jaar'\n",
    "    ),\n",
    "    yaxis = go.layout.YAxis(\n",
    "        title = 'Aantal aanvallen'\n",
    "    ),\n",
    "    title = 'Aantal aanvallen op burgers in de EU per jaar'\n",
    ")\n",
    "\n",
    "data = [trace1, trace2]\n",
    "\n",
    "citizens = go.Figure(data = data, layout = layout)\n",
    "\n",
    "iplot(citizens)"
   ]
  },
  {
   "cell_type": "markdown",
   "metadata": {},
   "source": [
    "Hierboven is te zien hoe de dreiging fluctueert over de tijdspanne van 1970 tot 2015. De hoeveelheid aanvallen is niet eerder zo hoog geweest als in 2015. Ook is de stijging van aanvallen sinds 1972 niet zo hoog geweest als in 2015. "
   ]
  },
  {
   "cell_type": "code",
   "execution_count": 24,
   "metadata": {
    "slideshow": {
     "slide_type": "slide"
    }
   },
   "outputs": [
    {
     "data": {
      "application/vnd.plotly.v1+json": {
       "config": {
        "linkText": "Export to plot.ly",
        "plotlyServerURL": "https://plot.ly",
        "showLink": false
       },
       "data": [
        {
         "domain": {
          "column": 0
         },
         "hole": 0.4,
         "labels": [
          "Government (Diplomatic)",
          "Airports & Aircraft",
          "Government (General)",
          "Business",
          "Terrorists/Non-State Militia",
          "Private Citizens & Property",
          "Religious Figures/Institutions",
          "Journalists & Media",
          "Police",
          "Educational Institution",
          "Telecommunication"
         ],
         "name": "1970",
         "type": "pie",
         "uid": "d0f50bbe-ff7f-4ea3-80d2-f9333f18997a",
         "values": [
          6,
          6,
          1,
          1,
          2,
          6,
          1,
          1,
          1,
          1,
          1
         ]
        },
        {
         "domain": {
          "column": 1
         },
         "hole": 0.4,
         "labels": [
          "Religious Figures/Institutions",
          "Private Citizens & Property",
          "Police",
          "Business",
          "Unknown",
          "Other"
         ],
         "name": "2015",
         "type": "pie",
         "uid": "8bfa04be-eca7-4d28-be89-7bdcfaac00a8",
         "values": [
          25,
          176,
          24,
          33,
          36,
          38
         ]
        }
       ],
       "layout": {
        "annotations": [
         {
          "font": {
           "size": 20
          },
          "showarrow": false,
          "text": "1970",
          "x": 0.2,
          "y": 0.5
         },
         {
          "font": {
           "size": 20
          },
          "showarrow": false,
          "text": "2015",
          "x": 0.81,
          "y": 0.5
         }
        ],
        "grid": {
         "columns": 2,
         "rows": 1
        },
        "title": {
         "text": "Verschuiving van het doelwit van de aanvallen tussen 1970 en 2015, in de EU"
        }
       }
      },
      "text/html": [
       "<div>\n",
       "        \n",
       "        \n",
       "            <div id=\"583c2bc1-3eef-4fcd-a18c-a1f240757805\" class=\"plotly-graph-div\" style=\"height:525px; width:100%;\"></div>\n",
       "            <script type=\"text/javascript\">\n",
       "                require([\"plotly\"], function(Plotly) {\n",
       "                    window.PLOTLYENV=window.PLOTLYENV || {};\n",
       "                    window.PLOTLYENV.BASE_URL='https://plot.ly';\n",
       "                    \n",
       "                if (document.getElementById(\"583c2bc1-3eef-4fcd-a18c-a1f240757805\")) {\n",
       "                    Plotly.newPlot(\n",
       "                        '583c2bc1-3eef-4fcd-a18c-a1f240757805',\n",
       "                        [{\"domain\": {\"column\": 0}, \"hole\": 0.4, \"labels\": [\"Government (Diplomatic)\", \"Airports & Aircraft\", \"Government (General)\", \"Business\", \"Terrorists/Non-State Militia\", \"Private Citizens & Property\", \"Religious Figures/Institutions\", \"Journalists & Media\", \"Police\", \"Educational Institution\", \"Telecommunication\"], \"name\": \"1970\", \"type\": \"pie\", \"uid\": \"d0f50bbe-ff7f-4ea3-80d2-f9333f18997a\", \"values\": [6, 6, 1, 1, 2, 6, 1, 1, 1, 1, 1]}, {\"domain\": {\"column\": 1}, \"hole\": 0.4, \"labels\": [\"Religious Figures/Institutions\", \"Private Citizens & Property\", \"Police\", \"Business\", \"Unknown\", \"Other\"], \"name\": \"2015\", \"type\": \"pie\", \"uid\": \"8bfa04be-eca7-4d28-be89-7bdcfaac00a8\", \"values\": [25, 176, 24, 33, 36, 38]}],\n",
       "                        {\"annotations\": [{\"font\": {\"size\": 20}, \"showarrow\": false, \"text\": \"1970\", \"x\": 0.2, \"y\": 0.5}, {\"font\": {\"size\": 20}, \"showarrow\": false, \"text\": \"2015\", \"x\": 0.81, \"y\": 0.5}], \"grid\": {\"columns\": 2, \"rows\": 1}, \"title\": {\"text\": \"Verschuiving van het doelwit van de aanvallen tussen 1970 en 2015, in de EU\"}},\n",
       "                        {\"showLink\": false, \"linkText\": \"Export to plot.ly\", \"plotlyServerURL\": \"https://plot.ly\", \"responsive\": true}\n",
       "                    ).then(function(){\n",
       "                            \n",
       "var gd = document.getElementById('583c2bc1-3eef-4fcd-a18c-a1f240757805');\n",
       "var x = new MutationObserver(function (mutations, observer) {{\n",
       "        var display = window.getComputedStyle(gd).display;\n",
       "        if (!display || display === 'none') {{\n",
       "            console.log([gd, 'removed!']);\n",
       "            Plotly.purge(gd);\n",
       "            observer.disconnect();\n",
       "        }}\n",
       "}});\n",
       "\n",
       "// Listen for the removal of the full notebook cells\n",
       "var notebookContainer = gd.closest('#notebook-container');\n",
       "if (notebookContainer) {{\n",
       "    x.observe(notebookContainer, {childList: true});\n",
       "}}\n",
       "\n",
       "// Listen for the clearing of the current output cell\n",
       "var outputEl = gd.closest('.output');\n",
       "if (outputEl) {{\n",
       "    x.observe(outputEl, {childList: true});\n",
       "}}\n",
       "\n",
       "                        })\n",
       "                };\n",
       "                });\n",
       "            </script>\n",
       "        </div>"
      ]
     },
     "metadata": {},
     "output_type": "display_data"
    }
   ],
   "source": [
    "targets1 = dict()\n",
    "\n",
    "for item in df.index:\n",
    "    # add targettype to dict for the year 1970\n",
    "    if df.loc[item]['country_txt'] in eu and df.loc[item]['iyear'] == 1970:\n",
    "        if df.loc[item]['targtype1_txt'] in targets1:\n",
    "            targets1[df.loc[item]['targtype1_txt']] += 1\n",
    "        else:\n",
    "            targets1[df.loc[item]['targtype1_txt']] = 1\n",
    "                        \n",
    "targets2 = dict()\n",
    "\n",
    "for item in df.index:\n",
    "    # add targettype to dict for the year 2015\n",
    "    if df.loc[item]['country_txt'] in eu and df.loc[item]['iyear'] == 2015:\n",
    "        if df.loc[item]['targtype1_txt'] in targets2:\n",
    "            targets2[df.loc[item]['targtype1_txt']] += 1\n",
    "        else:\n",
    "            targets2[df.loc[item]['targtype1_txt']] = 1\n",
    "\n",
    "# list of targettypes with less than 21 attacks\n",
    "items = [x for x,y in targets2.items() if y <= 21 and x != 'Other']\n",
    "\n",
    "# total number of attacks from items in list items\n",
    "counter = sum([y for x,y in targets2.items() if y <= 21 and x != 'Other'])\n",
    "\n",
    "# delete every item with less than 21 attacks\n",
    "for item in items:\n",
    "    del targets2[item]\n",
    "    \n",
    "# add counter to dict with name 'Other'\n",
    "targets2['Other'] = counter\n",
    "\n",
    "\n",
    "trace = go.Pie(\n",
    "    values = list(targets1.values()),\n",
    "    labels = list(targets1.keys()), \n",
    "    domain = {'column': 0},\n",
    "    name = '1970',\n",
    "    hole = 0.4\n",
    ")    \n",
    "\n",
    "trace2 = go.Pie(\n",
    "    values = list(targets2.values()),\n",
    "    labels = list(targets2.keys()),\n",
    "    domain = {'column': 1},\n",
    "    name = '2015',\n",
    "    hole = 0.4\n",
    ")\n",
    "\n",
    "layout = go.Layout(\n",
    "    title = 'Verschuiving van het doelwit van de aanvallen tussen 1970 en 2015, in de EU',\n",
    "    grid = {'rows': 1, 'columns': 2},\n",
    "    annotations = [\n",
    "        {\n",
    "            'font' : {'size': 20},\n",
    "            'showarrow' : False,\n",
    "            'text' : '1970',\n",
    "            'x': 0.2,\n",
    "            'y': 0.5 \n",
    "        },\n",
    "        {\n",
    "            'font' : {'size': 20},\n",
    "            'showarrow' : False,\n",
    "            'text' : '2015',\n",
    "            \"x\": 0.81,\n",
    "            \"y\": 0.5\n",
    "        }\n",
    "    ]\n",
    ")\n",
    "\n",
    "\n",
    "targets = go.Figure(data = [trace, trace2], layout = layout)\n",
    "\n",
    "iplot(targets)"
   ]
  },
  {
   "cell_type": "markdown",
   "metadata": {},
   "source": [
    "In 1970 waren de meeste aanslagen gericht op zowel vliegtuigen/vliegvelden, de overheid als op burgers. Maar te in de visualisatie hierboven is te zien dat in 2015 deze verdeling is verschoven. In plaats van dat ongeveer een kwart van alle aanvallen binnen de EU gericht was op de burger, is 35 jaar later meer dan de helft van alle aanvallen gericht op de gewone burgers. Dat de huidige Nederlander angstiger is voor terroristische aanslagen lijkt hierdoor gegronder. "
   ]
  },
  {
   "cell_type": "markdown",
   "metadata": {},
   "source": [
    "# 3. Map"
   ]
  },
  {
   "cell_type": "code",
   "execution_count": 8,
   "metadata": {},
   "outputs": [
    {
     "ename": "ModuleNotFoundError",
     "evalue": "No module named 'geopandas'",
     "output_type": "error",
     "traceback": [
      "\u001b[0;31m---------------------------------------------------------------------------\u001b[0m",
      "\u001b[0;31mModuleNotFoundError\u001b[0m                       Traceback (most recent call last)",
      "\u001b[0;32m<ipython-input-8-2e026c23b1ea>\u001b[0m in \u001b[0;36m<module>\u001b[0;34m()\u001b[0m\n\u001b[0;32m----> 1\u001b[0;31m \u001b[0;32mimport\u001b[0m \u001b[0mgeopandas\u001b[0m \u001b[0;32mas\u001b[0m \u001b[0mgpd\u001b[0m\u001b[0;34m\u001b[0m\u001b[0m\n\u001b[0m\u001b[1;32m      2\u001b[0m \u001b[0;32mfrom\u001b[0m \u001b[0mdescartes\u001b[0m \u001b[0;32mimport\u001b[0m \u001b[0mPolygonPatch\u001b[0m\u001b[0;34m\u001b[0m\u001b[0m\n\u001b[1;32m      3\u001b[0m \u001b[0;34m\u001b[0m\u001b[0m\n\u001b[1;32m      4\u001b[0m \u001b[0;31m# map bestand\u001b[0m\u001b[0;34m\u001b[0m\u001b[0;34m\u001b[0m\u001b[0m\n\u001b[1;32m      5\u001b[0m \u001b[0mgdf\u001b[0m \u001b[0;34m=\u001b[0m \u001b[0mgpd\u001b[0m\u001b[0;34m.\u001b[0m\u001b[0mread_file\u001b[0m\u001b[0;34m(\u001b[0m\u001b[0;34m'./maps/ne_10m_admin_0_countries.shp'\u001b[0m\u001b[0;34m)\u001b[0m\u001b[0;34m\u001b[0m\u001b[0m\n",
      "\u001b[0;31mModuleNotFoundError\u001b[0m: No module named 'geopandas'"
     ]
    }
   ],
   "source": [
    "import geopandas as gpd\n",
    "from descartes import PolygonPatch\n",
    "\n",
    "# map bestand\n",
    "gdf = gpd.read_file('./maps/ne_10m_admin_0_countries.shp')\n",
    "\n",
    "# elke aanval per land per jaar\n",
    "country_attacks = dict()\n",
    "\n",
    "for item in df.index:\n",
    "    if df.loc[item]['country_txt'] in country_attacks:\n",
    "        country_attacks[df.loc[item]['country_txt']].append(df.loc[item]['iyear'])\n",
    "    else:\n",
    "        country_attacks[df.loc[item]['country_txt']] = [df.loc[item]['iyear']]\n",
    "\n",
    "# aanvallen per land in gewenste jaren\n",
    "year_country_attacks = {}\n",
    "\n",
    "years = ['1970','1975','1980','1985','1990','1995','2000','2005','2008','2009','2010','2011','2012','2013',\n",
    "         '2014','2015']  \n",
    "\n",
    "for country in country_attacks:\n",
    "    year_country_attacks[country] = defaultdict(lambda: 0)\n",
    "    for year in country_attacks[country]:\n",
    "        if str(year) in years:\n",
    "            if year in year_country_attacks[country]:\n",
    "                year_country_attacks[country][year] += 1\n",
    "            else:\n",
    "                year_country_attacks[country][year] = 1\n",
    "\n",
    "# populatie per land per jaar in geselecteerde jaren (vervang naam Tsjechie om overeen te komen\n",
    "# met de andere databases)\n",
    "                \n",
    "gdf['ADMIN'].replace('Czech Republic', 'Czechia')\n",
    "\n",
    "# csv waarden populatie landen\n",
    "df = pd.read_csv('./maps/API_SP.POP.TOTL_DS2_en_csv_v2_10576638.csv', skiprows=4)\n",
    "df.rename(index=str, columns={'Country Name' : 'Country_Name'}, inplace=True)\n",
    "colsX = ['Country_Name','1970','1975','1980','1985','1990','1995','2000','2005','2008','2009','2010','2011','2012','2013',\n",
    "         '2014','2015']   \n",
    "world_dfX = df[colsX]\n",
    "\n",
    "cols = ['ADMIN', 'geometry']\n",
    "world_map = gdf[cols]\n",
    "\n",
    "# verwijder landen die geen aanslagen hadden in gemeten jaren\n",
    "\n",
    "for country in year_country_attacks.copy():\n",
    "    if year_country_attacks[country] == 0:\n",
    "        del year_country_attacks[country]\n",
    "\n",
    "for country in world_dfX['Country_Name']:\n",
    "    if country not in year_country_attacks.keys():\n",
    "        world_dfX.drop(world_dfX[world_dfX['Country_Name'] == country].index , inplace=True)\n",
    "        world_map.drop(world_map[world_map['ADMIN'] == country].index , inplace=True)\n",
    "        \n",
    "# van populatie per jaar naar aanvallen/populatie in dat jaar\n",
    "\n",
    "for country in world_dfX['Country_Name']:\n",
    "    for year in years:\n",
    "        if year_country_attacks[country][int(year)] != 0:\n",
    "            div = year_country_attacks[country][int(year)]\n",
    "            pop = world_dfX.loc[world_dfX.Country_Name == country, year].values[0]\n",
    "            world_dfX.loc[world_dfX.Country_Name == country, year] = div / pop\n",
    "        else:\n",
    "            world_dfX.loc[world_dfX.Country_Name == country, year] = 0\n",
    "            \n",
    "# voeg alle data samen om in een map te kunnen tonen   \n",
    "merged = world_map.set_index('ADMIN').join(world_dfX.set_index('Country_Name'))\n"
   ]
  },
  {
   "cell_type": "code",
   "execution_count": 9,
   "metadata": {},
   "outputs": [
    {
     "ename": "NameError",
     "evalue": "name 'merged' is not defined",
     "output_type": "error",
     "traceback": [
      "\u001b[0;31m---------------------------------------------------------------------------\u001b[0m",
      "\u001b[0;31mNameError\u001b[0m                                 Traceback (most recent call last)",
      "\u001b[0;32m<ipython-input-9-95966188f8df>\u001b[0m in \u001b[0;36m<module>\u001b[0;34m()\u001b[0m\n\u001b[1;32m      7\u001b[0m ax.annotate('Bronnen: Global Terrorism Database 2017, Worldbank 2019',xy=(0.1, .08),  xycoords='figure fraction', \n\u001b[1;32m      8\u001b[0m             horizontalalignment='left', verticalalignment='top', fontsize=12, color='#555555')\n\u001b[0;32m----> 9\u001b[0;31m \u001b[0mmerged\u001b[0m\u001b[0;34m.\u001b[0m\u001b[0mplot\u001b[0m\u001b[0;34m(\u001b[0m\u001b[0mcolumn\u001b[0m\u001b[0;34m=\u001b[0m\u001b[0;34m'1970'\u001b[0m\u001b[0;34m,\u001b[0m \u001b[0mcmap\u001b[0m\u001b[0;34m=\u001b[0m\u001b[0;34m'Reds'\u001b[0m\u001b[0;34m,\u001b[0m \u001b[0mlinewidth\u001b[0m\u001b[0;34m=\u001b[0m\u001b[0;36m0.8\u001b[0m\u001b[0;34m,\u001b[0m \u001b[0max\u001b[0m\u001b[0;34m=\u001b[0m\u001b[0max\u001b[0m\u001b[0;34m,\u001b[0m \u001b[0medgecolor\u001b[0m\u001b[0;34m=\u001b[0m\u001b[0;34m'0.8'\u001b[0m\u001b[0;34m)\u001b[0m\u001b[0;34m;\u001b[0m\u001b[0;34m\u001b[0m\u001b[0m\n\u001b[0m",
      "\u001b[0;31mNameError\u001b[0m: name 'merged' is not defined"
     ]
    },
    {
     "data": {
      "image/png": "[encoded data removed]",
      "text/plain": [
       "<Figure size 720x720 with 1 Axes>"
      ]
     },
     "metadata": {},
     "output_type": "display_data"
    }
   ],
   "source": [
    "# zet de straal van de kleuren\n",
    "vmin, vmax = 180, 220\n",
    "# maak figuur en assen \n",
    "fig, ax = plt.subplots(1, figsize=(10, 10))\n",
    "ax.axis('off')\n",
    "ax.set_title('Aanslagen per inwoner', fontdict={'fontsize': '15', 'fontweight' : '3'})\n",
    "ax.annotate('Bronnen: Global Terrorism Database 2017, Worldbank 2019',xy=(0.1, .08),  xycoords='figure fraction', \n",
    "            horizontalalignment='left', verticalalignment='top', fontsize=12, color='#555555')\n",
    "merged.plot(column='1970', cmap='Reds', linewidth=0.8, ax=ax, edgecolor='0.8');\n"
   ]
  },
  {
   "cell_type": "code",
   "execution_count": 10,
   "metadata": {},
   "outputs": [
    {
     "ename": "NameError",
     "evalue": "name 'merged' is not defined",
     "output_type": "error",
     "traceback": [
      "\u001b[0;31m---------------------------------------------------------------------------\u001b[0m",
      "\u001b[0;31mNameError\u001b[0m                                 Traceback (most recent call last)",
      "\u001b[0;32m<ipython-input-10-3274166f6a83>\u001b[0m in \u001b[0;36m<module>\u001b[0;34m()\u001b[0m\n\u001b[1;32m      7\u001b[0m ax.annotate('Bronnen: Global Terrorism Database 2017, Worldbank 2019',xy=(0.1, .08),  xycoords='figure fraction', \n\u001b[1;32m      8\u001b[0m             horizontalalignment='left', verticalalignment='top', fontsize=12, color='#555555')\n\u001b[0;32m----> 9\u001b[0;31m \u001b[0mmerged\u001b[0m\u001b[0;34m.\u001b[0m\u001b[0mplot\u001b[0m\u001b[0;34m(\u001b[0m\u001b[0mcolumn\u001b[0m\u001b[0;34m=\u001b[0m\u001b[0;34m'1975'\u001b[0m\u001b[0;34m,\u001b[0m \u001b[0mcmap\u001b[0m\u001b[0;34m=\u001b[0m\u001b[0;34m'Reds'\u001b[0m\u001b[0;34m,\u001b[0m \u001b[0mlinewidth\u001b[0m\u001b[0;34m=\u001b[0m\u001b[0;36m0.8\u001b[0m\u001b[0;34m,\u001b[0m \u001b[0max\u001b[0m\u001b[0;34m=\u001b[0m\u001b[0max\u001b[0m\u001b[0;34m,\u001b[0m \u001b[0medgecolor\u001b[0m\u001b[0;34m=\u001b[0m\u001b[0;34m'0.8'\u001b[0m\u001b[0;34m)\u001b[0m\u001b[0;34m;\u001b[0m\u001b[0;34m\u001b[0m\u001b[0m\n\u001b[0m",
      "\u001b[0;31mNameError\u001b[0m: name 'merged' is not defined"
     ]
    },
    {
     "data": {
      "image/png": "[encoded data removed]",
      "text/plain": [
       "<Figure size 720x720 with 1 Axes>"
      ]
     },
     "metadata": {},
     "output_type": "display_data"
    }
   ],
   "source": [
    "# zet de straal van de kleuren\n",
    "vmin, vmax = 180, 220\n",
    "# maak figuur en assen \n",
    "fig, ax = plt.subplots(1, figsize=(10, 10))\n",
    "ax.axis('off')\n",
    "ax.set_title('Aanslagen per inwoner', fontdict={'fontsize': '15', 'fontweight' : '3'})\n",
    "ax.annotate('Bronnen: Global Terrorism Database 2017, Worldbank 2019',xy=(0.1, .08),  xycoords='figure fraction', \n",
    "            horizontalalignment='left', verticalalignment='top', fontsize=12, color='#555555')\n",
    "merged.plot(column='1975', cmap='Reds', linewidth=0.8, ax=ax, edgecolor='0.8');\n"
   ]
  },
  {
   "cell_type": "code",
   "execution_count": null,
   "metadata": {},
   "outputs": [],
   "source": [
    "# zet de straal van de kleuren\n",
    "vmin, vmax = 180, 220\n",
    "# maak figuur en assen \n",
    "fig, ax = plt.subplots(1, figsize=(10, 10))\n",
    "ax.axis('off')\n",
    "ax.set_title('Aanslagen per inwoner', fontdict={'fontsize': '15', 'fontweight' : '3'})\n",
    "ax.annotate('Bronnen: Global Terrorism Database 2017, Worldbank 2019',xy=(0.1, .08),  xycoords='figure fraction', \n",
    "            horizontalalignment='left', verticalalignment='top', fontsize=12, color='#555555')\n",
    "merged.plot(column='1980', cmap='Reds', linewidth=0.8, ax=ax, edgecolor='0.8');\n"
   ]
  },
  {
   "cell_type": "code",
   "execution_count": null,
   "metadata": {},
   "outputs": [],
   "source": [
    "# zet de straal van de kleuren\n",
    "vmin, vmax = 180, 220\n",
    "# maak figuur en assen \n",
    "fig, ax = plt.subplots(1, figsize=(10, 10))\n",
    "ax.axis('off')\n",
    "ax.set_title('Aanslagen per inwoner', fontdict={'fontsize': '15', 'fontweight' : '3'})\n",
    "ax.annotate('Bronnen: Global Terrorism Database 2017, Worldbank 2019',xy=(0.1, .08),  xycoords='figure fraction', \n",
    "            horizontalalignment='left', verticalalignment='top', fontsize=12, color='#555555')\n",
    "merged.plot(column='1985', cmap='Reds', linewidth=0.8, ax=ax, edgecolor='0.8');\n"
   ]
  },
  {
   "cell_type": "code",
   "execution_count": null,
   "metadata": {},
   "outputs": [],
   "source": [
    "# zet de straal van de kleuren\n",
    "vmin, vmax = 180, 220\n",
    "# maak figuur en assen \n",
    "fig, ax = plt.subplots(1, figsize=(10, 10))\n",
    "ax.axis('off')\n",
    "ax.set_title('Aanslagen per inwoner', fontdict={'fontsize': '15', 'fontweight' : '3'})\n",
    "ax.annotate('Bronnen: Global Terrorism Database 2017, Worldbank 2019',xy=(0.1, .08),  xycoords='figure fraction', \n",
    "            horizontalalignment='left', verticalalignment='top', fontsize=12, color='#555555')\n",
    "merged.plot(column='1990', cmap='Reds', linewidth=0.8, ax=ax, edgecolor='0.8');\n"
   ]
  },
  {
   "cell_type": "code",
   "execution_count": null,
   "metadata": {},
   "outputs": [],
   "source": [
    "# zet de straal van de kleuren\n",
    "vmin, vmax = 180, 220\n",
    "# maak figuur en assen \n",
    "fig, ax = plt.subplots(1, figsize=(10, 10))\n",
    "ax.axis('off')\n",
    "ax.set_title('Aanslagen per inwoner', fontdict={'fontsize': '15', 'fontweight' : '3'})\n",
    "ax.annotate('Bronnen: Global Terrorism Database 2017, Worldbank 2019',xy=(0.1, .08),  xycoords='figure fraction', \n",
    "            horizontalalignment='left', verticalalignment='top', fontsize=12, color='#555555')\n",
    "merged.plot(column='1995', cmap='Reds', linewidth=0.8, ax=ax, edgecolor='0.8');\n"
   ]
  },
  {
   "cell_type": "code",
   "execution_count": null,
   "metadata": {},
   "outputs": [],
   "source": [
    "# zet de straal van de kleuren\n",
    "vmin, vmax = 180, 220\n",
    "# maak figuur en assen \n",
    "fig, ax = plt.subplots(1, figsize=(10, 10))\n",
    "ax.axis('off')\n",
    "ax.set_title('Aanslagen per inwoner', fontdict={'fontsize': '15', 'fontweight' : '3'})\n",
    "ax.annotate('Bronnen: Global Terrorism Database 2017, Worldbank 2019',xy=(0.1, .08),  xycoords='figure fraction', \n",
    "            horizontalalignment='left', verticalalignment='top', fontsize=12, color='#555555')\n",
    "merged.plot(column='2000', cmap='Reds', linewidth=0.8, ax=ax, edgecolor='0.8');\n"
   ]
  },
  {
   "cell_type": "code",
   "execution_count": null,
   "metadata": {},
   "outputs": [],
   "source": [
    "# zet de straal van de kleuren\n",
    "vmin, vmax = 180, 220\n",
    "# maak figuur en assen \n",
    "fig, ax = plt.subplots(1, figsize=(10, 10))\n",
    "ax.axis('off')\n",
    "ax.set_title('Aanslagen per inwoner', fontdict={'fontsize': '15', 'fontweight' : '3'})\n",
    "ax.annotate('Bronnen: Global Terrorism Database 2017, Worldbank 2019',xy=(0.1, .08),  xycoords='figure fraction', \n",
    "            horizontalalignment='left', verticalalignment='top', fontsize=12, color='#555555')\n",
    "merged.plot(column='2005', cmap='Reds', linewidth=0.8, ax=ax, edgecolor='0.8');\n"
   ]
  },
  {
   "cell_type": "code",
   "execution_count": null,
   "metadata": {},
   "outputs": [],
   "source": [
    "# zet de straal van de kleuren\n",
    "vmin, vmax = 180, 220\n",
    "# maak figuur en assen \n",
    "fig, ax = plt.subplots(1, figsize=(10, 10))\n",
    "ax.axis('off')\n",
    "ax.set_title('Aanslagen per inwoner', fontdict={'fontsize': '15', 'fontweight' : '3'})\n",
    "ax.annotate('Bronnen: Global Terrorism Database 2017, Worldbank 2019',xy=(0.1, .08),  xycoords='figure fraction', \n",
    "            horizontalalignment='left', verticalalignment='top', fontsize=12, color='#555555')\n",
    "merged.plot(column='2008', cmap='Reds', linewidth=0.8, ax=ax, edgecolor='0.8');\n"
   ]
  },
  {
   "cell_type": "code",
   "execution_count": null,
   "metadata": {},
   "outputs": [],
   "source": [
    "# zet de straal van de kleuren\n",
    "vmin, vmax = 180, 220\n",
    "# maak figuur en assen \n",
    "fig, ax = plt.subplots(1, figsize=(10, 10))\n",
    "ax.axis('off')\n",
    "ax.set_title('Aanslagen per inwoner', fontdict={'fontsize': '15', 'fontweight' : '3'})\n",
    "ax.annotate('Bronnen: Global Terrorism Database 2017, Worldbank 2019',xy=(0.1, .08),  xycoords='figure fraction', \n",
    "            horizontalalignment='left', verticalalignment='top', fontsize=12, color='#555555')\n",
    "merged.plot(column='2010', cmap='Reds', linewidth=0.8, ax=ax, edgecolor='0.8');\n"
   ]
  },
  {
   "cell_type": "code",
   "execution_count": null,
   "metadata": {},
   "outputs": [],
   "source": [
    "# zet de straal van de kleuren\n",
    "vmin, vmax = 180, 220\n",
    "# maak figuur en assen \n",
    "fig, ax = plt.subplots(1, figsize=(10, 10))\n",
    "ax.axis('off')\n",
    "ax.set_title('Aanslagen per inwoner', fontdict={'fontsize': '15', 'fontweight' : '3'})\n",
    "ax.annotate('Bronnen: Global Terrorism Database 2017, Worldbank 2019',xy=(0.1, .08),  xycoords='figure fraction', \n",
    "            horizontalalignment='left', verticalalignment='top', fontsize=12, color='#555555')\n",
    "merged.plot(column='2012', cmap='Reds', linewidth=0.8, ax=ax, edgecolor='0.8');\n"
   ]
  },
  {
   "cell_type": "code",
   "execution_count": null,
   "metadata": {},
   "outputs": [],
   "source": [
    "# zet de straal van de kleuren\n",
    "vmin, vmax = 180, 220\n",
    "# maak figuur en assen \n",
    "fig, ax = plt.subplots(1, figsize=(10, 10))\n",
    "ax.axis('off')\n",
    "ax.set_title('Aanslagen per inwoner', fontdict={'fontsize': '15', 'fontweight' : '3'})\n",
    "ax.annotate('Bronnen: Global Terrorism Database 2017, Worldbank 2019',xy=(0.1, .08),  xycoords='figure fraction', \n",
    "            horizontalalignment='left', verticalalignment='top', fontsize=12, color='#555555')\n",
    "merged.plot(column='2015', cmap='Reds', linewidth=0.8, ax=ax, edgecolor='0.8');"
   ]
  },
  {
   "cell_type": "code",
   "execution_count": 21,
   "metadata": {
    "slideshow": {
     "slide_type": "slide"
    }
   },
   "outputs": [
    {
     "data": {
      "application/vnd.plotly.v1+json": {
       "config": {
        "linkText": "Export to plot.ly",
        "plotlyServerURL": "https://plot.ly",
        "showLink": false
       },
       "data": [
        {
         "marker": {
          "color": "rgba(217, 30, 24, 1)",
          "line": {
           "width": 2
          },
          "size": 10
         },
         "mode": "markers",
         "type": "scatter",
         "uid": "df2ee9ab-9f3d-4d46-b912-4814d9772707",
         "x": [
          1995,
          2001,
          2004,
          2005,
          2007,
          2010,
          2012,
          2014,
          2015
         ],
         "y": [
          1,
          1,
          1,
          4,
          2,
          1,
          1,
          1,
          5
         ]
        }
       ],
       "layout": {
        "title": {
         "text": "Aantal zelfmoordaanslagen per jaar binnen de EU"
        },
        "xaxis": {
         "title": {
          "text": "Jaar"
         }
        },
        "yaxis": {
         "title": {
          "text": "Aantal aanvallen"
         }
        }
       }
      },
      "text/html": [
       "<div>\n",
       "        \n",
       "        \n",
       "            <div id=\"2ca7ac8e-0e71-434e-9edf-517ebea5d3b2\" class=\"plotly-graph-div\" style=\"height:525px; width:100%;\"></div>\n",
       "            <script type=\"text/javascript\">\n",
       "                require([\"plotly\"], function(Plotly) {\n",
       "                    window.PLOTLYENV=window.PLOTLYENV || {};\n",
       "                    window.PLOTLYENV.BASE_URL='https://plot.ly';\n",
       "                    \n",
       "                if (document.getElementById(\"2ca7ac8e-0e71-434e-9edf-517ebea5d3b2\")) {\n",
       "                    Plotly.newPlot(\n",
       "                        '2ca7ac8e-0e71-434e-9edf-517ebea5d3b2',\n",
       "                        [{\"marker\": {\"color\": \"rgba(217, 30, 24, 1)\", \"line\": {\"width\": 2}, \"size\": 10}, \"mode\": \"markers\", \"type\": \"scatter\", \"uid\": \"df2ee9ab-9f3d-4d46-b912-4814d9772707\", \"x\": [1995, 2001, 2004, 2005, 2007, 2010, 2012, 2014, 2015], \"y\": [1, 1, 1, 4, 2, 1, 1, 1, 5]}],\n",
       "                        {\"title\": {\"text\": \"Aantal zelfmoordaanslagen per jaar binnen de EU\"}, \"xaxis\": {\"title\": {\"text\": \"Jaar\"}}, \"yaxis\": {\"title\": {\"text\": \"Aantal aanvallen\"}}},\n",
       "                        {\"showLink\": false, \"linkText\": \"Export to plot.ly\", \"plotlyServerURL\": \"https://plot.ly\", \"responsive\": true}\n",
       "                    ).then(function(){\n",
       "                            \n",
       "var gd = document.getElementById('2ca7ac8e-0e71-434e-9edf-517ebea5d3b2');\n",
       "var x = new MutationObserver(function (mutations, observer) {{\n",
       "        var display = window.getComputedStyle(gd).display;\n",
       "        if (!display || display === 'none') {{\n",
       "            console.log([gd, 'removed!']);\n",
       "            Plotly.purge(gd);\n",
       "            observer.disconnect();\n",
       "        }}\n",
       "}});\n",
       "\n",
       "// Listen for the removal of the full notebook cells\n",
       "var notebookContainer = gd.closest('#notebook-container');\n",
       "if (notebookContainer) {{\n",
       "    x.observe(notebookContainer, {childList: true});\n",
       "}}\n",
       "\n",
       "// Listen for the clearing of the current output cell\n",
       "var outputEl = gd.closest('.output');\n",
       "if (outputEl) {{\n",
       "    x.observe(outputEl, {childList: true});\n",
       "}}\n",
       "\n",
       "                        })\n",
       "                };\n",
       "                });\n",
       "            </script>\n",
       "        </div>"
      ]
     },
     "metadata": {},
     "output_type": "display_data"
    }
   ],
   "source": [
    "suicide = dict()\n",
    "\n",
    "# count number of suicide attacks per year in EU\n",
    "for item in df.index:\n",
    "    if df.loc[item]['country_txt'] in eu and df.loc[item]['suicide'] == 1:\n",
    "        if df.loc[item]['iyear'] in suicide:\n",
    "            suicide[df.loc[item]['iyear']] += 1\n",
    "        else:\n",
    "            suicide[df.loc[item]['iyear']] = 1\n",
    "\n",
    "trace = go.Scatter(\n",
    "    x = list(suicide.keys()),\n",
    "    y = list(suicide.values()),\n",
    "    mode = 'markers',\n",
    "    marker = dict(\n",
    "        size = 10,\n",
    "        color = 'rgba(217, 30, 24, 1)',\n",
    "        line = dict(\n",
    "            width = 2,\n",
    "        )\n",
    "    )\n",
    ")\n",
    "\n",
    "layout = go.Layout(\n",
    "    xaxis=go.layout.XAxis(\n",
    "        title = 'Jaar'\n",
    "    ),\n",
    "    yaxis = go.layout.YAxis(\n",
    "        title = 'Aantal aanvallen'\n",
    "    ),\n",
    "    title = 'Aantal zelfmoordaanslagen per jaar binnen de EU',\n",
    ")\n",
    "\n",
    "plot = go.Figure(data = [trace], layout = layout)\n",
    "\n",
    "iplot(plot)"
   ]
  },
  {
   "cell_type": "code",
   "execution_count": 23,
   "metadata": {
    "slideshow": {
     "slide_type": "slide"
    }
   },
   "outputs": [
    {
     "data": {
      "application/vnd.plotly.v1+json": {
       "config": {
        "linkText": "Export to plot.ly",
        "plotlyServerURL": "https://plot.ly",
        "showLink": false
       },
       "data": [
        {
         "name": "1970",
         "type": "bar",
         "uid": "d765cd53-52e6-4615-a19e-7659fff7fa07",
         "x": [
          "Belgium",
          "Germany",
          "Austria",
          "Spain",
          "Ireland",
          "Portugal",
          "Greece",
          "Italy",
          "Poland",
          "Sweden"
         ],
         "y": [
          2,
          23,
          1,
          4,
          1,
          4,
          1,
          1,
          1,
          1
         ]
        },
        {
         "marker": {
          "color": "rgb(255,127,80)"
         },
         "name": "2015",
         "type": "bar",
         "uid": "c0a00b22-d5cb-4ddf-9c9a-81c2268d7e5a",
         "x": [
          "Sweden",
          "Bulgaria",
          "Italy",
          "France",
          "Netherlands",
          "Germany",
          "Greece",
          "Ireland",
          "Cyprus",
          "Denmark",
          "Belgium",
          "Spain",
          "Romania",
          "Malta",
          "Croatia",
          "Poland",
          "Finland"
         ],
         "y": [
          23,
          2,
          11,
          35,
          4,
          40,
          30,
          28,
          3,
          4,
          1,
          4,
          1,
          2,
          1,
          1,
          4
         ]
        }
       ],
       "layout": {
        "title": {
         "text": "Aantal aanvallen op mensen met een EU-nationaliteit in 1970 en 2015, per land"
        },
        "updatemenus": [
         {
          "active": -1,
          "buttons": [
           {
            "args": [
             {
              "visible": [
               true,
               false
              ]
             },
             {
              "title": "Aantal aanvallen op mensen met een EU-nationaliteit in 1970, per land"
             }
            ],
            "label": "1970",
            "method": "update"
           },
           {
            "args": [
             {
              "visible": [
               false,
               true
              ]
             },
             {
              "title": "Aantal aanvallenop mensen met een EU-nationaliteit in 2015, per land"
             }
            ],
            "label": "2015",
            "method": "update"
           },
           {
            "args": [
             {
              "visible": [
               true,
               true
              ]
             },
             {
              "title": "Aantal aanvallen op mensen met een EU-nationaliteit in 1970 en 2015, per land"
             }
            ],
            "label": "Beide",
            "method": "update"
           }
          ]
         }
        ],
        "xaxis": {
         "title": {
          "text": "Land"
         }
        },
        "yaxis": {
         "title": {
          "text": "Aantal aanvallen"
         }
        }
       }
      },
      "text/html": [
       "<div>\n",
       "        \n",
       "        \n",
       "            <div id=\"fca2145f-fec5-4d8b-9ef4-b428d7e09e9d\" class=\"plotly-graph-div\" style=\"height:525px; width:100%;\"></div>\n",
       "            <script type=\"text/javascript\">\n",
       "                require([\"plotly\"], function(Plotly) {\n",
       "                    window.PLOTLYENV=window.PLOTLYENV || {};\n",
       "                    window.PLOTLYENV.BASE_URL='https://plot.ly';\n",
       "                    \n",
       "                if (document.getElementById(\"fca2145f-fec5-4d8b-9ef4-b428d7e09e9d\")) {\n",
       "                    Plotly.newPlot(\n",
       "                        'fca2145f-fec5-4d8b-9ef4-b428d7e09e9d',\n",
       "                        [{\"name\": \"1970\", \"type\": \"bar\", \"uid\": \"d765cd53-52e6-4615-a19e-7659fff7fa07\", \"x\": [\"Belgium\", \"Germany\", \"Austria\", \"Spain\", \"Ireland\", \"Portugal\", \"Greece\", \"Italy\", \"Poland\", \"Sweden\"], \"y\": [2, 23, 1, 4, 1, 4, 1, 1, 1, 1]}, {\"marker\": {\"color\": \"rgb(255,127,80)\"}, \"name\": \"2015\", \"type\": \"bar\", \"uid\": \"c0a00b22-d5cb-4ddf-9c9a-81c2268d7e5a\", \"x\": [\"Sweden\", \"Bulgaria\", \"Italy\", \"France\", \"Netherlands\", \"Germany\", \"Greece\", \"Ireland\", \"Cyprus\", \"Denmark\", \"Belgium\", \"Spain\", \"Romania\", \"Malta\", \"Croatia\", \"Poland\", \"Finland\"], \"y\": [23, 2, 11, 35, 4, 40, 30, 28, 3, 4, 1, 4, 1, 2, 1, 1, 4]}],\n",
       "                        {\"title\": {\"text\": \"Aantal aanvallen op mensen met een EU-nationaliteit in 1970 en 2015, per land\"}, \"updatemenus\": [{\"active\": -1, \"buttons\": [{\"args\": [{\"visible\": [true, false]}, {\"title\": \"Aantal aanvallen op mensen met een EU-nationaliteit in 1970, per land\"}], \"label\": \"1970\", \"method\": \"update\"}, {\"args\": [{\"visible\": [false, true]}, {\"title\": \"Aantal aanvallenop mensen met een EU-nationaliteit in 2015, per land\"}], \"label\": \"2015\", \"method\": \"update\"}, {\"args\": [{\"visible\": [true, true]}, {\"title\": \"Aantal aanvallen op mensen met een EU-nationaliteit in 1970 en 2015, per land\"}], \"label\": \"Beide\", \"method\": \"update\"}]}], \"xaxis\": {\"title\": {\"text\": \"Land\"}}, \"yaxis\": {\"title\": {\"text\": \"Aantal aanvallen\"}}},\n",
       "                        {\"showLink\": false, \"linkText\": \"Export to plot.ly\", \"plotlyServerURL\": \"https://plot.ly\", \"responsive\": true}\n",
       "                    ).then(function(){\n",
       "                            \n",
       "var gd = document.getElementById('fca2145f-fec5-4d8b-9ef4-b428d7e09e9d');\n",
       "var x = new MutationObserver(function (mutations, observer) {{\n",
       "        var display = window.getComputedStyle(gd).display;\n",
       "        if (!display || display === 'none') {{\n",
       "            console.log([gd, 'removed!']);\n",
       "            Plotly.purge(gd);\n",
       "            observer.disconnect();\n",
       "        }}\n",
       "}});\n",
       "\n",
       "// Listen for the removal of the full notebook cells\n",
       "var notebookContainer = gd.closest('#notebook-container');\n",
       "if (notebookContainer) {{\n",
       "    x.observe(notebookContainer, {childList: true});\n",
       "}}\n",
       "\n",
       "// Listen for the clearing of the current output cell\n",
       "var outputEl = gd.closest('.output');\n",
       "if (outputEl) {{\n",
       "    x.observe(outputEl, {childList: true});\n",
       "}}\n",
       "\n",
       "                        })\n",
       "                };\n",
       "                });\n",
       "            </script>\n",
       "        </div>"
      ]
     },
     "metadata": {},
     "output_type": "display_data"
    }
   ],
   "source": [
    "first = dict()\n",
    "\n",
    "for item in df.index:\n",
    "    # count number of attacks where nationality of target is european in 1970\n",
    "    if df.loc[item]['natlty1_txt'] in eu and df.loc[item]['iyear'] == 1970:\n",
    "        if df.loc[item]['natlty1_txt'] in first:\n",
    "            first[df.loc[item]['natlty1_txt']] += 1\n",
    "        else:\n",
    "            first[df.loc[item]['natlty1_txt']] = 1\n",
    "            \n",
    "second = dict()\n",
    "\n",
    "for item in df.index:\n",
    "    # count number of attacks where nationality of target is european in 2015\n",
    "    if df.loc[item]['natlty1_txt'] in eu and df.loc[item]['iyear'] == 2015:\n",
    "        if df.loc[item]['natlty1_txt'] in second:\n",
    "            second[df.loc[item]['natlty1_txt']] += 1\n",
    "        else:\n",
    "            second[df.loc[item]['natlty1_txt']] = 1\n",
    "            \n",
    "\n",
    "trace_1970 = go.Bar(\n",
    "    x = list(first.keys()),\n",
    "    y = list(first.values()),\n",
    "    name = '1970',\n",
    "\n",
    ")\n",
    "\n",
    "trace_2015 = go.Bar(\n",
    "    x = list(second.keys()),\n",
    "    y = list(second.values()),\n",
    "    name = '2015',\n",
    "    marker=dict(\n",
    "        color='rgb(255,127,80)')\n",
    ")\n",
    "\n",
    "updatemenus = list([\n",
    "    dict(active=-1,\n",
    "         buttons=list([   \n",
    "            dict(label = '1970',\n",
    "                 method = 'update',\n",
    "                 args = [{'visible': [True, False]},\n",
    "                         {'title': 'Aantal aanvallen op mensen met een EU-nationaliteit in 1970, per land'}]),\n",
    "            dict(label = '2015',\n",
    "                 method = 'update',\n",
    "                 args = [{'visible': [False, True]},\n",
    "                         {'title': 'Aantal aanvallenop mensen met een EU-nationaliteit in 2015, per land'}]),\n",
    "            dict(label = 'Beide',\n",
    "             method = 'update',\n",
    "             args = [{'visible': [True, True]},\n",
    "                     {'title': 'Aantal aanvallen op mensen met een EU-nationaliteit in 1970 en 2015, per land'}])\n",
    "        ]),\n",
    "    )\n",
    "])\n",
    "\n",
    "layout = dict(title = 'Aantal aanvallen op mensen met een EU-nationaliteit in 1970 en 2015, per land',\n",
    "              updatemenus = updatemenus,         \n",
    "                xaxis=go.layout.XAxis(\n",
    "                    title = 'Land'\n",
    "                ),\n",
    "                yaxis = go.layout.YAxis(\n",
    "                    title = 'Aantal aanvallen'\n",
    "                )\n",
    ")\n",
    "             \n",
    "\n",
    "plot = go.Figure(data = [trace_1970, trace_2015], layout = layout)\n",
    "\n",
    "iplot(plot)"
   ]
  },
  {
   "cell_type": "markdown",
   "metadata": {},
   "source": [
    "Europeanen lijken in 2015 meer te vrezen te hebben ten opzichte van de terroristische aanvallen in 1970. In 1970 waren er geen terroristische aanvallen waarbij Nederlanders betrokken waren, in tegenstelling tot de 4 aanvallen waarbij Nederlanders het doelwit waren in 2015. Er zijn meer dan twee keer zoveel landen waaruit mensen doelwit zijn  van een terroristische aanval in 2015 ten opzichte van 1970. "
   ]
  }
 ],
 "metadata": {
  "kernelspec": {
   "display_name": "Python 3",
   "language": "python",
   "name": "python3"
  },
  "language_info": {
   "codemirror_mode": {
    "name": "ipython",
    "version": 3
   },
   "file_extension": ".py",
   "mimetype": "text/x-python",
   "name": "python",
   "nbconvert_exporter": "python",
   "pygments_lexer": "ipython3",
   "version": "3.6.5"
  }
 },
 "nbformat": 4,
 "nbformat_minor": 2
}
